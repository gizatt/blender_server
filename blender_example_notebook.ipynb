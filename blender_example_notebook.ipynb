{
 "cells": [
  {
   "cell_type": "code",
   "execution_count": null,
   "metadata": {},
   "outputs": [],
   "source": [
    "import io\n",
    "\n",
    "from PIL import Image\n",
    "\n",
    "import bpy\n",
    "import blender_scripts.blender_scene_management as bsm"
   ]
  },
  {
   "cell_type": "code",
   "execution_count": null,
   "metadata": {},
   "outputs": [],
   "source": [
    "bpy.ops.wm.open_mainfile(filepath=\"./data/blender_template/blank.blend\")\n",
    "bsm.initialize_scene()\n",
    "\n",
    "cam_name = \"cam_1\"\n",
    "bsm.register_camera(cam_name)\n",
    "bsm.configure_rendering(\n",
    "    camera_name=cam_name, resolution=[640, 480], file_format=\"PNG\")"
   ]
  },
  {
   "cell_type": "code",
   "execution_count": null,
   "metadata": {},
   "outputs": [],
   "source": [
    "image_bytes = bsm.render_and_return_image_bytes(cam_name)\n",
    "Image.open(io.BytesIO(image_bytes))"
   ]
  },
  {
   "cell_type": "code",
   "execution_count": null,
   "metadata": {},
   "outputs": [],
   "source": []
  }
 ],
 "metadata": {
  "kernelspec": {
   "display_name": "Blender Python 3",
   "language": "python",
   "name": "blender_python3"
  },
  "language_info": {
   "codemirror_mode": {
    "name": "ipython",
    "version": 3
   },
   "file_extension": ".py",
   "mimetype": "text/x-python",
   "name": "python",
   "nbconvert_exporter": "python",
   "pygments_lexer": "ipython3",
   "version": "3.7.0"
  }
 },
 "nbformat": 4,
 "nbformat_minor": 2
}
